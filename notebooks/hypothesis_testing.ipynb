{
 "cells": [
  {
   "cell_type": "markdown",
   "metadata": {},
   "source": []
  },
  {
   "cell_type": "code",
   "execution_count": 1,
   "metadata": {},
   "outputs": [],
   "source": [
    "import pandas as pd\n",
    "import matplotlib.pyplot as plt\n",
    "import seaborn as sns\n",
    "import sys"
   ]
  },
  {
   "cell_type": "code",
   "execution_count": 2,
   "metadata": {},
   "outputs": [],
   "source": [
    "sys.path.append('../scripts')"
   ]
  },
  {
   "cell_type": "code",
   "execution_count": 11,
   "metadata": {},
   "outputs": [],
   "source": [
    "from hypothesis_testing import load_data,calculate_kpis,segment_data,t_test,anova_test,chi_square_test"
   ]
  },
  {
   "cell_type": "code",
   "execution_count": 4,
   "metadata": {},
   "outputs": [
    {
     "name": "stderr",
     "output_type": "stream",
     "text": [
      "c:\\Users\\Kalea\\Desktop\\week 3\\notebooks\\../scripts\\hypothesis_testing.py:10: DtypeWarning: Columns (32) have mixed types. Specify dtype option on import or set low_memory=False.\n",
      "  df = pd.read_csv(file_path)\n"
     ]
    },
    {
     "name": "stdout",
     "output_type": "stream",
     "text": [
      "Data successfully loaded!\n",
      "<class 'pandas.core.frame.DataFrame'>\n",
      "RangeIndex: 1000098 entries, 0 to 1000097\n",
      "Data columns (total 5 columns):\n",
      " #   Column        Non-Null Count    Dtype  \n",
      "---  ------        --------------    -----  \n",
      " 0   Gender        990562 non-null   object \n",
      " 1   Province      1000098 non-null  object \n",
      " 2   PostalCode    1000098 non-null  int64  \n",
      " 3   TotalPremium  1000098 non-null  float64\n",
      " 4   TotalClaims   1000098 non-null  float64\n",
      "dtypes: float64(2), int64(1), object(2)\n",
      "memory usage: 38.2+ MB\n",
      "None\n"
     ]
    }
   ],
   "source": [
    "df = load_data('../data/cleaned_dataset.csv')"
   ]
  },
  {
   "cell_type": "markdown",
   "metadata": {
    "vscode": {
     "languageId": "bat"
    }
   },
   "source": [
    "#### calculate kpi like claimrate and profit margin to test the hypothesis"
   ]
  },
  {
   "cell_type": "code",
   "execution_count": 5,
   "metadata": {},
   "outputs": [
    {
     "name": "stdout",
     "output_type": "stream",
     "text": [
      "KPIs calculated: ClaimRate and ProfitMargin\n"
     ]
    }
   ],
   "source": [
    "df= calculate_kpis(df)"
   ]
  },
  {
   "cell_type": "code",
   "execution_count": 15,
   "metadata": {},
   "outputs": [
    {
     "data": {
      "text/html": [
       "<div>\n",
       "<style scoped>\n",
       "    .dataframe tbody tr th:only-of-type {\n",
       "        vertical-align: middle;\n",
       "    }\n",
       "\n",
       "    .dataframe tbody tr th {\n",
       "        vertical-align: top;\n",
       "    }\n",
       "\n",
       "    .dataframe thead th {\n",
       "        text-align: right;\n",
       "    }\n",
       "</style>\n",
       "<table border=\"1\" class=\"dataframe\">\n",
       "  <thead>\n",
       "    <tr style=\"text-align: right;\">\n",
       "      <th></th>\n",
       "      <th>ClaimRate</th>\n",
       "      <th>ProfitMargin</th>\n",
       "    </tr>\n",
       "  </thead>\n",
       "  <tbody>\n",
       "    <tr>\n",
       "      <th>count</th>\n",
       "      <td>1.000098e+06</td>\n",
       "      <td>1.000098e+06</td>\n",
       "    </tr>\n",
       "    <tr>\n",
       "      <th>mean</th>\n",
       "      <td>2.794202e+06</td>\n",
       "      <td>-2.955694e+00</td>\n",
       "    </tr>\n",
       "    <tr>\n",
       "      <th>std</th>\n",
       "      <td>3.947653e+08</td>\n",
       "      <td>2.367137e+03</td>\n",
       "    </tr>\n",
       "    <tr>\n",
       "      <th>min</th>\n",
       "      <td>-6.354800e+08</td>\n",
       "      <td>-3.928486e+05</td>\n",
       "    </tr>\n",
       "    <tr>\n",
       "      <th>25%</th>\n",
       "      <td>0.000000e+00</td>\n",
       "      <td>0.000000e+00</td>\n",
       "    </tr>\n",
       "    <tr>\n",
       "      <th>50%</th>\n",
       "      <td>0.000000e+00</td>\n",
       "      <td>2.157687e+00</td>\n",
       "    </tr>\n",
       "    <tr>\n",
       "      <th>75%</th>\n",
       "      <td>0.000000e+00</td>\n",
       "      <td>2.192982e+01</td>\n",
       "    </tr>\n",
       "    <tr>\n",
       "      <th>max</th>\n",
       "      <td>1.525895e+11</td>\n",
       "      <td>6.528260e+04</td>\n",
       "    </tr>\n",
       "  </tbody>\n",
       "</table>\n",
       "</div>"
      ],
      "text/plain": [
       "          ClaimRate  ProfitMargin\n",
       "count  1.000098e+06  1.000098e+06\n",
       "mean   2.794202e+06 -2.955694e+00\n",
       "std    3.947653e+08  2.367137e+03\n",
       "min   -6.354800e+08 -3.928486e+05\n",
       "25%    0.000000e+00  0.000000e+00\n",
       "50%    0.000000e+00  2.157687e+00\n",
       "75%    0.000000e+00  2.192982e+01\n",
       "max    1.525895e+11  6.528260e+04"
      ]
     },
     "execution_count": 15,
     "metadata": {},
     "output_type": "execute_result"
    }
   ],
   "source": [
    "df[['ClaimRate','ProfitMargin']].describe()"
   ]
  },
  {
   "cell_type": "markdown",
   "metadata": {},
   "source": [
    "#### Group the data by segments "
   ]
  },
  {
   "cell_type": "code",
   "execution_count": 29,
   "metadata": {},
   "outputs": [],
   "source": [
    "# Group gender\n",
    "group_male, group_female= segment_data(df,'Gender','Female','Male')\n",
    "# Create groups for each province\n",
    "group_provinces = [df[df['Province'] == province] for province in df['Province'].unique()]  \n",
    "# Create groups for each Postalcode\n",
    "group_zipcode = [df[df['PostalCode'] == zipcode] for zipcode in df ['PostalCode'].unique()]\n"
   ]
  },
  {
   "cell_type": "markdown",
   "metadata": {},
   "source": [
    "### perform the tests "
   ]
  },
  {
   "cell_type": "markdown",
   "metadata": {},
   "source": [
    "#### 1. There are no risk differences across provinces "
   ]
  },
  {
   "cell_type": "code",
   "execution_count": 30,
   "metadata": {},
   "outputs": [
    {
     "name": "stdout",
     "output_type": "stream",
     "text": [
      "ANOVA Test for Provinces: F-stat = 2.1460, p = 0.0284\n"
     ]
    }
   ],
   "source": [
    "# Perform Annova test on the provinces to claimrate \n",
    "f_stat, p_value = anova_test(group_provinces, 'ClaimRate')  \n",
    "print(f\"ANOVA Test for Provinces: F-stat = {f_stat:.4f}, p = {p_value:.4f}\")"
   ]
  },
  {
   "cell_type": "markdown",
   "metadata": {},
   "source": [
    "#### 2.There are no risk differences between zip codes"
   ]
  },
  {
   "cell_type": "code",
   "execution_count": 35,
   "metadata": {},
   "outputs": [
    {
     "name": "stdout",
     "output_type": "stream",
     "text": [
      "ANOVA Test for zipcode: F-stat = 0.6219, p = 1.0000\n"
     ]
    }
   ],
   "source": [
    "# Perform Annova test on the postalCode(ziocode) to claimrate\n",
    "f_stat, p_value = anova_test(group_zipcode, 'ClaimRate')\n",
    "print(f\"ANOVA Test for zipcode: F-stat = {f_stat:.4f}, p = {p_value:.4f}\")"
   ]
  },
  {
   "cell_type": "markdown",
   "metadata": {},
   "source": [
    "#### 3. There are no significant margin (profit) differences between zip codes"
   ]
  },
  {
   "cell_type": "code",
   "execution_count": 36,
   "metadata": {},
   "outputs": [
    {
     "name": "stdout",
     "output_type": "stream",
     "text": [
      "ANOVA Test for zipcode: F-stat = 0.8707, p = 0.9977\n"
     ]
    }
   ],
   "source": [
    "# Perform Annova test on the postalCode(ziocode) to PofitMargin\n",
    "f_stat, p_value = anova_test(group_zipcode, 'ProfitMargin')\n",
    "print(f\"ANOVA Test for zipcode: F-stat = {f_stat:.4f}, p = {p_value:.4f}\")"
   ]
  },
  {
   "cell_type": "markdown",
   "metadata": {},
   "source": [
    "#### 4. There are no significant risk differences between Women and Men"
   ]
  },
  {
   "cell_type": "code",
   "execution_count": 37,
   "metadata": {},
   "outputs": [
    {
     "name": "stdout",
     "output_type": "stream",
     "text": [
      "T-Test for Gender: t-stat = -1.7481, p = 0.0804\n"
     ]
    }
   ],
   "source": [
    "# Perform t-test on the gender to claimrate\n",
    "t_stat_gender, p_value_gender = t_test(group_male, group_female, 'ClaimRate')\n",
    "print(f\"T-Test for Gender: t-stat = {t_stat_gender:.4f}, p = {p_value_gender:.4f}\")"
   ]
  },
  {
   "cell_type": "code",
   "execution_count": null,
   "metadata": {},
   "outputs": [],
   "source": []
  },
  {
   "cell_type": "code",
   "execution_count": 40,
   "metadata": {},
   "outputs": [
    {
     "name": "stdout",
     "output_type": "stream",
     "text": [
      "                 Multiple Comparison of Means - Tukey HSD, FWER=0.05                 \n",
      "=====================================================================================\n",
      "    group1        group2       meandiff    p-adj      lower          upper     reject\n",
      "-------------------------------------------------------------------------------------\n",
      " Eastern Cape    Free State  10648951.1951 0.4344  -4665788.1419  25963690.532  False\n",
      " Eastern Cape       Gauteng   3253641.9307 0.9045   -4042176.465 10549460.3264  False\n",
      " Eastern Cape KwaZulu-Natal   4231323.2122 0.7346  -3401045.0043 11863691.4287  False\n",
      " Eastern Cape       Limpopo    656281.7519    1.0   -9821766.747 11134330.2508  False\n",
      " Eastern Cape    Mpumalanga   -165063.2346    1.0  -8989005.9497  8658879.4804  False\n",
      " Eastern Cape    North West   1945273.2479 0.9974  -5793321.4091  9683867.9049  False\n",
      " Eastern Cape Northern Cape   -333561.2273    1.0 -17198284.0321 16531161.5776  False\n",
      " Eastern Cape  Western Cape    530106.3092    1.0  -7098823.2425  8159035.8609  False\n",
      "   Free State       Gauteng  -7395309.2643 0.7657 -21140323.9816  6349705.4529  False\n",
      "   Free State KwaZulu-Natal  -6417627.9829 0.8868 -20344203.5888  7508947.6231  False\n",
      "   Free State       Limpopo  -9992669.4431 0.5587 -25660661.1415  5675322.2553  False\n",
      "   Free State    Mpumalanga -10814014.4297 0.3448 -25427652.8731  3799624.0137  False\n",
      "   Free State    North West  -8703677.9472 0.5924 -22688752.5191  5281396.6247  False\n",
      "   Free State Northern Cape -10982512.4223 0.7698 -31479227.7397   9514202.895  False\n",
      "   Free State  Western Cape -10118844.8858 0.3706 -24043536.2512  3805846.4795  False\n",
      "      Gauteng KwaZulu-Natal    977681.2815 0.9952   -2577207.354   4532569.917  False\n",
      "      Gauteng       Limpopo  -2597360.1788 0.9855 -10608208.3838  5413488.0262  False\n",
      "      Gauteng    Mpumalanga  -3418705.1654 0.6365  -9097274.8495  2259864.5188  False\n",
      "      Gauteng    North West  -1308368.6829 0.9779   -5085938.786  2469201.4202  False\n",
      "      Gauteng Northern Cape   -3587203.158 0.9985 -19040457.3106 11866050.9946  False\n",
      "      Gauteng  Western Cape  -2723535.6215 0.2941  -6271035.4063   823964.1633  False\n",
      "KwaZulu-Natal       Limpopo  -3575041.4603 0.9216 -11893561.0096  4743478.0891  False\n",
      "KwaZulu-Natal    Mpumalanga  -4396386.4468 0.3836  -10501321.515  1708548.6214  False\n",
      "KwaZulu-Natal    North West  -2286049.9643 0.7973  -6678556.5851  2106456.6564  False\n",
      "KwaZulu-Natal Northern Cape  -4564884.4395 0.9927 -20179849.7751 11050080.8962  False\n",
      "KwaZulu-Natal  Western Cape   -3701216.903 0.1353  -7897504.9356   495071.1297  False\n",
      "      Limpopo    Mpumalanga   -821344.9866    1.0 -10245075.0305  8602385.0573  False\n",
      "      Limpopo    North West   1288991.4959 0.9999  -7127098.4612   9705081.453  False\n",
      "      Limpopo Northern Cape   -989842.9792    1.0 -18175988.5094  16196302.551  False\n",
      "      Limpopo  Western Cape   -126175.4427    1.0  -8441540.0773  8189189.1919  False\n",
      "   Mpumalanga    North West   2110336.4825 0.9809  -4126893.2599  8347566.2249  False\n",
      "   Mpumalanga Northern Cape   -168497.9926    1.0 -16399211.5592 16062215.5739  False\n",
      "   Mpumalanga  Western Cape    695169.5439    1.0  -5405465.9722  6795805.0599  False\n",
      "   North West Northern Cape  -2278834.4751    1.0  -17945995.836 13388326.8857  False\n",
      "   North West  Western Cape  -1415166.9386 0.9859  -5801695.8541  2971361.9768  False\n",
      "Northern Cape  Western Cape    863667.5365    1.0 -14749617.3179 16476952.3909  False\n",
      "-------------------------------------------------------------------------------------\n"
     ]
    },
    {
     "data": {
      "image/png": "[encoded data removed]",
      "text/plain": [
       "<Figure size 1000x600 with 1 Axes>"
      ]
     },
     "metadata": {},
     "output_type": "display_data"
    }
   ],
   "source": [
    "from statsmodels.stats.multicomp import pairwise_tukeyhsd\n",
    "\n",
    "# Perform Tukey's test on ClaimRate grouped by Province\n",
    "tukey = pairwise_tukeyhsd(\n",
    "    endog=df['ClaimRate'],  # Metric of interest\n",
    "    groups=df['Province'],  # Grouping variable\n",
    "    alpha=0.05              # Significance level\n",
    ")\n",
    "\n",
    "# Display the results\n",
    "print(tukey)\n",
    "\n",
    "# Visualize the results\n",
    "tukey.plot_simultaneous(comparison_name='Gauteng', xlabel='Mean Difference', ylabel='Province')\n",
    "plt.title('Tukey HSD Test Results for Provinces')\n",
    "plt.show()"
   ]
  },
  {
   "cell_type": "code",
   "execution_count": null,
   "metadata": {},
   "outputs": [],
   "source": []
  }
 ],
 "metadata": {
  "kernelspec": {
   "display_name": "env",
   "language": "python",
   "name": "python3"
  },
  "language_info": {
   "codemirror_mode": {
    "name": "ipython",
    "version": 3
   },
   "file_extension": ".py",
   "mimetype": "text/x-python",
   "name": "python",
   "nbconvert_exporter": "python",
   "pygments_lexer": "ipython3",
   "version": "3.10.11"
  }
 },
 "nbformat": 4,
 "nbformat_minor": 2
}
